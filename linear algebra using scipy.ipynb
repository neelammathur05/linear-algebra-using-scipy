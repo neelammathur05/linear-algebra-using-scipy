{
 "cells": [
  {
   "cell_type": "raw",
   "metadata": {},
   "source": [
    "# 30 question and 150 total marks\n",
    "# true/false que carry 4 marks each\n",
    "# multiple ques carry 9 marks each\n",
    "#Find out the total true/false and multiple questions "
   ]
  },
  {
   "cell_type": "code",
   "execution_count": 3,
   "metadata": {},
   "outputs": [],
   "source": [
    "import numpy as np\n",
    "# x + y = 30 ---- total que\n",
    "# 4x + 9y = 150 ----------total marks\n",
    "\n",
    "total_variables = np.array([[1,1],[4,9]])\n",
    "total_values = np.array([30,150])\n"
   ]
  },
  {
   "cell_type": "code",
   "execution_count": 5,
   "metadata": {},
   "outputs": [
    {
     "name": "stdout",
     "output_type": "stream",
     "text": [
      "[24.  6.]\n"
     ]
    }
   ],
   "source": [
    "from scipy import linalg\n",
    "total_ques_x_and_y = linalg.solve(total_variables,total_values)\n",
    "print(total_ques_x_and_y)"
   ]
  },
  {
   "cell_type": "code",
   "execution_count": null,
   "metadata": {},
   "outputs": [],
   "source": []
  }
 ],
 "metadata": {
  "kernelspec": {
   "display_name": "Python 3",
   "language": "python",
   "name": "python3"
  },
  "language_info": {
   "codemirror_mode": {
    "name": "ipython",
    "version": 3
   },
   "file_extension": ".py",
   "mimetype": "text/x-python",
   "name": "python",
   "nbconvert_exporter": "python",
   "pygments_lexer": "ipython3",
   "version": "3.7.6"
  }
 },
 "nbformat": 4,
 "nbformat_minor": 4
}
